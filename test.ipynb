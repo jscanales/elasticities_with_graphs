{
 "cells": [
  {
   "cell_type": "code",
   "execution_count": null,
   "metadata": {},
   "outputs": [],
   "source": [
    "import pandas as pd\n",
    "import numpy as np\n",
    "import statsmodels.api as sm\n",
    "import matplotlib.pyplot as plt\n",
    "from statsmodels.stats.stattools import durbin_watson\n",
    "from linearmodels.iv import IV2SLS\n",
    "\n",
    "from model import ModelData, IVModel\n",
    "\n",
    "from functools import lru_cache\n",
    "\n",
    "from synthetic import PriceArea, interval, Consumption, HourlySeries, Dummy, exogenous_variables, Areas, ar_model_analysis, ar_model_fit, Country, exog_list, IndEquilibrium, IndividualDemand, Supply, get_wind_series, WindOptions, RandomCached\n",
    "\n",
    "pd.options.plotting.backend = \"plotly\""
   ]
  },
  {
   "cell_type": "code",
   "execution_count": null,
   "metadata": {},
   "outputs": [],
   "source": []
  },
  {
   "cell_type": "code",
   "execution_count": null,
   "metadata": {},
   "outputs": [],
   "source": [
    "from simulations import Simulation, StructuralModel\n",
    "import numpy as np\n",
    "from arch.unitroot import ADF\n",
    "\n",
    "\n",
    "sim = Simulation(8760)\n",
    "X = np.linspace(-250, 250, 5)\n",
    "\n",
    "for i, x in enumerate(X):\n",
    "    demand = sim.get_demand(StructuralModel.Model_III, x)\n",
    "    supply = sim.get_supply(None, 26)\n",
    "    eq = sim.get_equilibrium(demand, supply)\n",
    "\n",
    "    # plt.figure(i)  # Create a new figure for each plot\n",
    "    # eq.clearing.demand.plot()\n",
    "    # plt.title(f'Plot for x = {x}')\n",
    "    # plt.xlabel('Time')\n",
    "    # plt.ylabel('Demand')\n",
    "    # plt.show()\n",
    "\n",
    "    adf = ADF(eq.clearing.demand)\n",
    "    print(adf.summary().as_text())\n",
    "\n"
   ]
  },
  {
   "cell_type": "code",
   "execution_count": null,
   "metadata": {},
   "outputs": [],
   "source": [
    "series = HourlySeries(interval(\"201501010000\", \n",
    "                               \"202312312300\"))\n",
    "\n",
    "temp = series.temperature(Areas.DE2).dropna(inplace=False)\n",
    "print(temp.head(), temp.tail())\n",
    "temp.to_csv(\"temperature.csv\")\n",
    "\n",
    "cdd = series.cdd(Areas.DE2).dropna(inplace=False)\n",
    "print(cdd.head(), cdd.tail())\n",
    "print(len(cdd))\n",
    "cdd.to_csv(\"cdd.csv\")\n",
    "\n",
    "hdd = series.hdd(Areas.DE2).dropna(inplace=False)\n",
    "print(hdd.head(), hdd.tail())\n",
    "print(len(hdd))\n",
    "hdd.to_csv(\"hdd.csv\")\n",
    "\n",
    "wind = series.wind_speed(Areas.DE2).dropna(inplace=False)\n",
    "wind.to_csv(\"wind_speed.csv\")"
   ]
  },
  {
   "cell_type": "code",
   "execution_count": null,
   "metadata": {},
   "outputs": [],
   "source": [
    "from statsmodels.stats import proportion\n",
    "import statsmodels.stats.weightstats as ws\n",
    "\n",
    "\n"
   ]
  },
  {
   "cell_type": "code",
   "execution_count": null,
   "metadata": {},
   "outputs": [],
   "source": [
    "print(np.linspace(1, 21, 11))"
   ]
  },
  {
   "cell_type": "code",
   "execution_count": null,
   "metadata": {},
   "outputs": [],
   "source": [
    "print(proportion.proportion_confint(50, 50, alpha=0.5))\n"
   ]
  },
  {
   "cell_type": "code",
   "execution_count": null,
   "metadata": {},
   "outputs": [],
   "source": [
    "print(ws.DescrStatsW([3, 12, 4, 5, 12]).tconfint_mean(alpha=0.5))"
   ]
  },
  {
   "cell_type": "code",
   "execution_count": null,
   "metadata": {},
   "outputs": [],
   "source": [
    "# Get consumption parameters\n",
    "start = pd.Timestamp(\"201711010000\")\n",
    "end = pd.Timestamp(\"202012312300\")\n",
    "\n",
    "consumption_analysis_interval = interval(start=start, end=end)\n",
    "\n",
    "consumption = Consumption(start=start, end=end, price_area=Areas.DE2)\n",
    "\n",
    "dummy = Dummy(consumption_analysis_interval)\n",
    "consumption_analyisis_series = HourlySeries(consumption_analysis_interval)\n",
    "\n",
    "exog = exogenous_variables(\n",
    "    start=start, end=end, price_area=consumption.price_area\n",
    ")\n",
    "\n",
    "EXOG_DF = exogenous_variables(\n",
    "    start=start, end=end, price_area=consumption.price_area\n",
    ")\n",
    "\n",
    "min_exog = exogenous_variables(\n",
    "    start=start, end=end, price_area=consumption.price_area, minimal=True\n",
    ")"
   ]
  },
  {
   "cell_type": "code",
   "execution_count": null,
   "metadata": {},
   "outputs": [],
   "source": [
    "GERMANY = Country(Areas.DE2, consumption_analyisis_series, remove_holidays=True)\n",
    "SPAIN = Country(Areas.ES, consumption_analyisis_series, remove_holidays=False)"
   ]
  },
  {
   "cell_type": "code",
   "execution_count": null,
   "metadata": {},
   "outputs": [],
   "source": [
    "GERMANY = Country(Areas.DE2, consumption_analyisis_series, remove_holidays=True)\n",
    "\n",
    "print(GERMANY.consumption.mean())"
   ]
  },
  {
   "cell_type": "code",
   "execution_count": null,
   "metadata": {},
   "outputs": [],
   "source": [
    "GERMANY = Country(Areas.DE2, consumption_analyisis_series, remove_holidays=False)\n",
    "\n",
    "print(GERMANY.consumption.mean())"
   ]
  },
  {
   "cell_type": "code",
   "execution_count": null,
   "metadata": {},
   "outputs": [],
   "source": [
    "df = pd.concat([GERMANY.consumption, GERMANY.wind_generation], axis=1)\n",
    "\n",
    "df['hour'] = df['consumption'].index.hour\n",
    "\n",
    "daily_profile = df.groupby('hour').mean()"
   ]
  },
  {
   "cell_type": "code",
   "execution_count": null,
   "metadata": {},
   "outputs": [],
   "source": [
    "daily_profile['consumption'].plot()"
   ]
  },
  {
   "cell_type": "code",
   "execution_count": null,
   "metadata": {},
   "outputs": [],
   "source": [
    "# Resample to daily average prices\n",
    "hourly_prices = GERMANY.price\n",
    "daily_prices = hourly_prices.resample('D').mean()\n",
    "\n",
    "# Calculate variances\n",
    "hourly_variance = hourly_prices.var()\n",
    "daily_variance = daily_prices.var()\n",
    "\n",
    "# Compare variances\n",
    "print(\"Hourly Variance:\", hourly_variance)\n",
    "print(\"Daily Variance:\", daily_variance)\n",
    "\n",
    "# Calculate standard deviations\n",
    "hourly_std_deviation = hourly_prices.std()\n",
    "daily_std_deviation = daily_prices.std()\n",
    "\n",
    "# Compare standard deviations\n",
    "print(\"Hourly Standard Deviation:\", hourly_std_deviation)\n",
    "print(\"Daily Standard Deviation:\", daily_std_deviation)\n",
    "\n",
    "print(\"Hourly demand SD:\", GERMANY.consumption.std())"
   ]
  },
  {
   "cell_type": "markdown",
   "metadata": {},
   "source": [
    "Intra-day optimization"
   ]
  },
  {
   "cell_type": "code",
   "execution_count": null,
   "metadata": {},
   "outputs": [],
   "source": [
    "dawn_series_demand = GERMANY.consumption.between_time('00:00', '05:59').resample('D').mean().rename(\"demand_dawn\")\n",
    "morning_series_demand  = GERMANY.consumption.between_time('06:00', '11:59').resample('D').mean().rename(\"demand_morning\")\n",
    "afternoon_series_demand  = GERMANY.consumption.between_time('12:00', '17:59').resample('D').mean().rename(\"demand_afternoon\")\n",
    "night_series_demand  = GERMANY.consumption.between_time('18:00', '23:59').resample('D').mean().rename(\"demand_night\")\n",
    "\n",
    "dawn_series_price = GERMANY.price.between_time('00:00', '05:59').resample('D').mean().rename(\"price_dawn\")\n",
    "morning_series_price = GERMANY.price.between_time('06:00', '11:59').resample('D').mean().rename(\"price_morning\")\n",
    "afternoon_series_price = GERMANY.price.between_time('12:00', '17:59').resample('D').mean().rename(\"price_afternoon\")\n",
    "night_series_price = GERMANY.price.between_time('18:00', '23:59').resample('D').mean().rename(\"price_night\")\n",
    "\n",
    "dawn_series_wind = GERMANY.wind_generation.between_time('00:00', '05:59').resample('D').mean().rename(\"wind_dawn\")\n",
    "morning_series_wind  = GERMANY.wind_generation.between_time('06:00', '11:59').resample('D').mean().rename(\"wind_morning\")\n",
    "afternoon_series_wind  = GERMANY.wind_generation.between_time('12:00', '17:59').resample('D').mean().rename(\"wind_afternoon\")\n",
    "night_series_wind  = GERMANY.wind_generation.between_time('18:00', '23:59').resample('D').mean().rename(\"wind_night\")"
   ]
  },
  {
   "cell_type": "code",
   "execution_count": null,
   "metadata": {},
   "outputs": [],
   "source": [
    "daily_df = exog.resample('D').mean()\n",
    "\n",
    "wind_controls = []\n",
    "\n",
    "for wind in dawn_series_wind, morning_series_wind, afternoon_series_wind, night_series_wind:\n",
    "    for i in range(1, 4):\n",
    "        assert isinstance(wind.name, str)\n",
    "        name = wind.name+f\"_t-{i}\"\n",
    "        shifted_series = wind.copy().shift(i).rename(name)\n",
    "        wind_controls.append(shifted_series)\n",
    "for ser in wind_controls:\n",
    "    print(ser.name)\n",
    "\n",
    "control_list = [dummy.constant(), dummy.school_holiday(), dummy.public_holiday(Areas.DE1), dummy.week_53(), consumption_analyisis_series.hdd(Areas.DE1), consumption_analyisis_series.cdd(Areas.DE1), consumption_analyisis_series.gas_price(Areas.DE1)] + dummy.month() + dummy.weekday()\n",
    "\n",
    "control_list = [ser.resample('D').mean() for ser in control_list]\n",
    "\n",
    "data = ModelData.construct(\n",
    "        dependent=morning_series_demand,\n",
    "        exognous=control_list + wind_controls,\n",
    "        endogenous=[dawn_series_price, morning_series_price, afternoon_series_price, night_series_price],\n",
    "        instruments=[dawn_series_wind, morning_series_wind, afternoon_series_wind, night_series_wind],\n",
    "        scaling=False,\n",
    "    )\n"
   ]
  },
  {
   "cell_type": "code",
   "execution_count": null,
   "metadata": {},
   "outputs": [],
   "source": [
    "iv_model = IVModel(data=data, cov_type='kernel')\n",
    "fitted = iv_model.fitted_model"
   ]
  },
  {
   "cell_type": "code",
   "execution_count": null,
   "metadata": {},
   "outputs": [],
   "source": [
    "fitted.summary"
   ]
  },
  {
   "cell_type": "markdown",
   "metadata": {},
   "source": [
    "Eigenvalues"
   ]
  },
  {
   "cell_type": "code",
   "execution_count": null,
   "metadata": {},
   "outputs": [],
   "source": [
    "for i in range(10):\n",
    "    print((2**i))"
   ]
  },
  {
   "cell_type": "code",
   "execution_count": null,
   "metadata": {},
   "outputs": [],
   "source": [
    "import pandas as pd\n",
    "import numpy as np\n",
    "import matplotlib.pyplot as plt\n",
    "\n",
    "# Assuming you have two instrument variables and two endogenous variables in pandas Series\n",
    "# Let's create sample data for demonstration purposes\n",
    "instrument_var1 = GERMANY.wind_generation.copy()\n",
    "instrument_var2 = GERMANY.wind_generation.copy().shift(1).rename(\"Wind_{t-1}\")\n",
    "endogenous_var1 = GERMANY.price.copy()\n",
    "endogenous_var2 = GERMANY.consumption.copy().shift(1).rename(\"Demand_{t-1}\")\n",
    "\n",
    "instrument_var1 = pd.Series([1, 2, 3, 4, 5, 6])\n",
    "instrument_var2 = pd.Series([4, 8, 16, 32, 64, 128])\n",
    "endogenous_var1 = pd.Series([2, 4, 8, 16, 32, 64])\n",
    "endogenous_var2 = pd.Series([5, 4, 3, 1, 2, 0])\n",
    "\n",
    "# Calculate the correlation coefficients\n",
    "corr_instrument_1 = pd.Series([instrument_var1.corr(endogenous_var1), instrument_var1.corr(endogenous_var2)])\n",
    "corr_instrument_2 = pd.Series([instrument_var2.corr(endogenous_var1), instrument_var2.corr(endogenous_var2)])\n",
    "\n",
    "# Create the correlation matrix\n",
    "corr_dataframe = pd.concat([corr_instrument_1, corr_instrument_2], axis=1)\n",
    "\n",
    "# Compute the eigenvalues\n",
    "eigenvalues = np.linalg.eigvals(corr_dataframe)\n",
    "\n",
    "print(corr_dataframe)\n",
    "\n",
    "print(eigenvalues)\n",
    "\n",
    "\n",
    "# Plot the eigenvalues\n",
    "plt.bar(range(1, len(eigenvalues) + 1), eigenvalues)\n",
    "plt.title('Eigenvalues of Instrument-Endogenous Correlation Matrix')\n",
    "plt.xlabel('Eigenvalue Index')\n",
    "plt.ylabel('Eigenvalue')\n",
    "plt.show()\n"
   ]
  },
  {
   "cell_type": "code",
   "execution_count": null,
   "metadata": {},
   "outputs": [],
   "source": [
    "import pandas as pd\n",
    "import numpy as np\n",
    "import matplotlib.pyplot as plt\n",
    "\n",
    "# Assuming you have two instrument variables and two endogenous variables in pandas Series\n",
    "# Let's create sample data for demonstration purposes\n",
    "instrument_var1 = GERMANY.wind_generation.copy()\n",
    "instrument_var2 = GERMANY.wind_generation.copy().shift(1).rename(\"Wind_{t-1}\")\n",
    "endogenous_var1 = GERMANY.price.copy()\n",
    "endogenous_var2 = GERMANY.consumption.copy().shift(1).rename(\"Demand_{t-1}\")\n",
    "\n",
    "# Combine series into a DataFrame\n",
    "data = pd.DataFrame({\n",
    "    'Instrument_Var1': instrument_var1,\n",
    "    'Instrument_Var2': instrument_var2,\n",
    "    'Endogenous_Var1': endogenous_var1,\n",
    "    'Endogenous_Var2': endogenous_var2\n",
    "})\n",
    "\n",
    "# Calculate the correlation matrix\n",
    "corr_matrix = data.corr()\n",
    "\n",
    "# Extract the relevant part of the correlation matrix\n",
    "corr_instrument_endogenous = corr_matrix.iloc[:2, 2:]\n",
    "\n",
    "# Calculate the eigenvalues\n",
    "eigenvalues = np.linalg.eigvals(corr_instrument_endogenous)\n",
    "\n",
    "# Plot the eigenvalues\n",
    "plt.bar(range(1, len(eigenvalues) + 1), eigenvalues)\n",
    "plt.title('Eigenvalues of Instrument-Endogenous Correlation Matrix')\n",
    "plt.xlabel('Eigenvalue Index')\n",
    "plt.ylabel('Eigenvalue')\n",
    "plt.show()\n"
   ]
  },
  {
   "cell_type": "markdown",
   "metadata": {},
   "source": [
    "Summary statistics"
   ]
  },
  {
   "cell_type": "code",
   "execution_count": null,
   "metadata": {},
   "outputs": [],
   "source": [
    "# Create a DataFrame from the data\n",
    "df = pd.concat([GERMANY.consumption, GERMANY.price, GERMANY.wind_generation], axis=1)\n",
    "\n",
    "# Calculate summary statistics for each variable\n",
    "summary_stats = df.describe().transpose()\n",
    "\n",
    "# Add skewness and kurtosis to the summary statistics\n",
    "summary_stats['Skewness'] = df.skew()\n",
    "summary_stats['Kurtosis'] = df.kurt()\n",
    "\n",
    "# Rename columns for clarity\n",
    "summary_stats.rename(\n",
    "    columns={\n",
    "        'mean': 'Mean',\n",
    "        '50%': 'Median',\n",
    "        'std': 'STD',\n",
    "        'min': 'Minimum',\n",
    "        'max': 'Maximum'\n",
    "    },\n",
    "    inplace=True\n",
    ")\n",
    "\n",
    "summary_stats = summary_stats.drop(columns=[\"count\", \"25%\", \"75%\"])\n",
    "\n",
    "for col in summary_stats.columns:\n",
    "    if col in ['Mean', 'Median', 'STD', 'Minimum', 'Maximum']:\n",
    "        summary_stats[col].iloc[0] = summary_stats[col].iloc[0] / 1000\n",
    "        summary_stats[col].iloc[2] = summary_stats[col].iloc[2] / 1000\n",
    "    if col == \"Skewness\":\n",
    "        summary_stats[col] = summary_stats[col].apply(lambda x: round(x, 2))\n",
    "    else:\n",
    "        summary_stats[col] = summary_stats[col].apply(lambda x: round(x, 1))\n",
    "\n",
    "# Print the summary statistics table\n",
    "print(summary_stats)"
   ]
  },
  {
   "cell_type": "markdown",
   "metadata": {},
   "source": [
    "Magnitude interpretation"
   ]
  },
  {
   "cell_type": "code",
   "execution_count": null,
   "metadata": {},
   "outputs": [],
   "source": [
    "print(GERMANY.wind_generation.describe())\n"
   ]
  },
  {
   "cell_type": "code",
   "execution_count": null,
   "metadata": {},
   "outputs": [],
   "source": [
    "std_deviation = GERMANY.wind_generation.std()\n",
    "skewness = GERMANY.wind_generation.skew()\n",
    "mean_value = GERMANY.wind_generation.mean()\n",
    "\n",
    "print(\"Standard Deviation:\", std_deviation)\n",
    "print(\"Skewness:\", skewness)\n",
    "print(\"Mean:\", mean_value)"
   ]
  },
  {
   "cell_type": "code",
   "execution_count": null,
   "metadata": {},
   "outputs": [],
   "source": [
    "plt.hist(GERMANY.wind_generation, bins='auto', color='#0504aa', alpha=0.7, rwidth=0.85)\n",
    "plt.title('Histogram of Wind generation')\n",
    "plt.xlabel('MWh')\n",
    "plt.ylabel('Frequency')\n",
    "plt.grid(axis='y', alpha=0.75)\n",
    "\n",
    "plt.show()"
   ]
  },
  {
   "cell_type": "code",
   "execution_count": null,
   "metadata": {},
   "outputs": [],
   "source": [
    "def filter_series_on_peak(series:pd.Series) -> pd.Series:\n",
    "    assert isinstance(series.index, pd.DatetimeIndex)\n",
    "    return series.loc[\n",
    "    (series.index.hour >= 8) & (series.index.hour < 20)\n",
    "]\n",
    "\n",
    "def filter_dataframe_on_peak(df:pd.DataFrame) -> pd.DataFrame:\n",
    "    assert isinstance(df.index, pd.DatetimeIndex)\n",
    "    return df.loc[\n",
    "    (df.index.hour >= 8) & (df.index.hour < 20)\n",
    "]"
   ]
  },
  {
   "cell_type": "code",
   "execution_count": null,
   "metadata": {},
   "outputs": [],
   "source": [
    "exog_list_vars = exog_list(\n",
    "    series=consumption_analyisis_series, dummy=dummy, price_area=consumption.price_area\n",
    ")\n",
    "\n",
    "wind_lags_list = [GERMANY.wind_generation.copy().shift(i).rename(f\"wind_generation_t-{i}\") for i in range(1, 51)]\n",
    "\n",
    "civ_wind_exog = pd.concat(exog_list_vars+wind_lags_list, axis=1)\n",
    "\n",
    "wind = GERMANY.wind_generation\n",
    "price = GERMANY.price\n",
    "demand = GERMANY.consumption\n",
    "\n",
    "on_peak_civ_wind_exog = filter_dataframe_on_peak(civ_wind_exog)\n",
    "on_peak_wind = filter_series_on_peak(wind)\n",
    "on_peak_price = filter_series_on_peak(price)\n",
    "on_peak_demand = filter_series_on_peak(demand)\n",
    "\n",
    "\n",
    "on_peak_residuals = sm.OLS(endog=on_peak_wind, exog=on_peak_civ_wind_exog, missing='drop', hasconst=True).fit().resid\n",
    "all_residuals = pd.Series(sm.OLS(endog=wind, exog=civ_wind_exog, missing='drop', hasconst=True).fit().resid)"
   ]
  },
  {
   "cell_type": "code",
   "execution_count": null,
   "metadata": {},
   "outputs": [],
   "source": [
    "forward_results = sm.OLS(endog = all_residuals, exog=all_residuals.shift(-1), missing='drop', hasconst=False).fit()"
   ]
  },
  {
   "cell_type": "code",
   "execution_count": null,
   "metadata": {},
   "outputs": [],
   "source": [
    "forward_results.summary()"
   ]
  },
  {
   "cell_type": "code",
   "execution_count": null,
   "metadata": {},
   "outputs": [],
   "source": [
    "forward_results = sm.OLS(endog = all_residuals, exog=pd.concat([Dummy(all_residuals.index).constant(), all_residuals.shift(-1)], axis = 1), missing='drop', hasconst=True).fit()\n"
   ]
  },
  {
   "cell_type": "code",
   "execution_count": null,
   "metadata": {},
   "outputs": [],
   "source": [
    "forward_results.summary()\n"
   ]
  },
  {
   "cell_type": "code",
   "execution_count": null,
   "metadata": {},
   "outputs": [],
   "source": [
    "res_series = pd.Series(on_peak_residuals)\n",
    "\n",
    "print(res_series.describe())\n"
   ]
  },
  {
   "cell_type": "code",
   "execution_count": null,
   "metadata": {},
   "outputs": [],
   "source": [
    "std_deviation = res_series.std()\n",
    "skewness = res_series.skew()\n",
    "mean_value = res_series.mean()\n",
    "\n",
    "print(\"Standard Deviation:\", std_deviation)\n",
    "print(\"Skewness:\", skewness)\n",
    "print(\"Mean:\", mean_value)"
   ]
  },
  {
   "cell_type": "code",
   "execution_count": null,
   "metadata": {},
   "outputs": [],
   "source": [
    "plt.hist(res_series, bins='auto', color='#0504aa', alpha=0.7, rwidth=0.85)\n",
    "plt.title('Histogram of Residuals')\n",
    "plt.xlabel('Value')\n",
    "plt.ylabel('Frequency')\n",
    "plt.grid(axis='y', alpha=0.75)\n",
    "\n",
    "plt.show()"
   ]
  },
  {
   "cell_type": "code",
   "execution_count": null,
   "metadata": {},
   "outputs": [],
   "source": [
    "first_stage = sm.OLS(on_peak_price, exog=filter_dataframe_on_peak(pd.concat([wind]+wind_lags_list+exog_list_vars, axis=1)), missing='drop').fit()"
   ]
  },
  {
   "cell_type": "code",
   "execution_count": null,
   "metadata": {},
   "outputs": [],
   "source": [
    "print(round(first_stage.params['wind_generation'], 6))"
   ]
  },
  {
   "cell_type": "code",
   "execution_count": null,
   "metadata": {},
   "outputs": [],
   "source": [
    "ES_civ_wind_estimate = -115.96418771147728\n",
    "DE_civ_wind_estimate = -310\n",
    "FR_civ_wind_estimate = -1520.687990039587\n",
    "\n",
    "civ_wind_estimate = DE_civ_wind_estimate\n",
    "\n",
    "reg_iv_estimate = 0\n",
    "resid_wind_sd = res_series.std()\n",
    "wind_sd = GERMANY.wind_generation.std()\n",
    "wind_first_stage_estimate = first_stage.params['wind_generation']\n",
    "price_sd = GERMANY.price.std()"
   ]
  },
  {
   "cell_type": "code",
   "execution_count": null,
   "metadata": {},
   "outputs": [],
   "source": [
    "print(resid_wind_sd*wind_first_stage_estimate*DE_civ_wind_estimate)"
   ]
  },
  {
   "cell_type": "code",
   "execution_count": null,
   "metadata": {},
   "outputs": [],
   "source": [
    "GERMANY.consumption.std()"
   ]
  },
  {
   "cell_type": "code",
   "execution_count": null,
   "metadata": {},
   "outputs": [],
   "source": [
    "18*223/GERMANY.consumption.std()*100"
   ]
  },
  {
   "cell_type": "code",
   "execution_count": null,
   "metadata": {},
   "outputs": [],
   "source": [
    "print(\"The share of price responsive capacity at average on-peak demand: \", round(civ_wind_estimate*resid_wind_sd*wind_first_stage_estimate*100/on_peak_demand.std(), 4), '%')"
   ]
  },
  {
   "cell_type": "code",
   "execution_count": null,
   "metadata": {},
   "outputs": [],
   "source": [
    "print(\"The share of price responsive capacity at maximum demand: \", round(civ_wind_estimate*resid_wind_sd*100/GERMANY.consumption.max(), 4), '%')"
   ]
  },
  {
   "cell_type": "code",
   "execution_count": null,
   "metadata": {},
   "outputs": [],
   "source": [
    "print(\"Responsive capacity using 1 SD of observed price: \", civ_wind_estimate*price_sd)"
   ]
  },
  {
   "cell_type": "code",
   "execution_count": null,
   "metadata": {},
   "outputs": [],
   "source": [
    "print(\"Responsive capacity using 2 SD of observed price: \", civ_wind_estimate*(price_sd*2))"
   ]
  },
  {
   "cell_type": "code",
   "execution_count": null,
   "metadata": {},
   "outputs": [],
   "source": [
    "print(\"Responsive capacity using 1 SD of residual wind: \", civ_wind_estimate*resid_wind_sd*wind_first_stage_estimate)"
   ]
  },
  {
   "cell_type": "code",
   "execution_count": null,
   "metadata": {},
   "outputs": [],
   "source": [
    "print(\"Responsive capacity using 2 SD of residual wind: \", civ_wind_estimate*resid_wind_sd*2*wind_first_stage_estimate)"
   ]
  },
  {
   "cell_type": "markdown",
   "metadata": {},
   "source": [
    "ACF/PACF"
   ]
  },
  {
   "cell_type": "code",
   "execution_count": null,
   "metadata": {},
   "outputs": [],
   "source": [
    "from statsmodels.graphics.tsaplots import plot_acf, plot_pacf\n",
    "\n",
    "def plot_correlation(axs, series: pd.Series, lags: int, pacf_limit=168):\n",
    "        ax_acf, ax_pacf = axs\n",
    "        plot_acf(series, lags=lags, ax=ax_acf, markersize=3, bartlett_confint=False, vlines_kwargs={'linewidth':0.6})\n",
    "        plot_pacf(series, lags=min(lags, pacf_limit), ax=ax_pacf, method=\"ywm\", markersize=3, vlines_kwargs={'linewidth':0.6})\n",
    "\n",
    "def plot_acf_pacf(series: pd.Series, height:float, width:float, name:str):\n",
    "    fig, axss = plt.subplots(2, 2, sharex=True, sharey=True, figsize=(width,height))\n",
    "\n",
    "    plot_correlation(axss.transpose()[0], series, 168)\n",
    "    assert isinstance(series.index, pd.DatetimeIndex), \"Series does not have a pd.DatetimeIndex\"\n",
    "    residuals = sm.OLS(series, exogenous_variables(start=series.index.min(), end=series.index.max(), price_area=GERMANY.area)).fit().resid\n",
    "    plot_correlation(axss.transpose()[1], residuals, 168)\n",
    "\n",
    "    axss[0,0].set_title(f'uncontrolled {name}')\n",
    "    axss[0,1].set_title(f'controlled {name}')\n",
    "    axss[1,0].set_title('')\n",
    "    axss[1,1].set_title('')\n",
    "    axss[0,0].set_ylabel('autocorrelation', size='large')\n",
    "    axss[1,0].set_ylabel('partial autocorrelation', size='large')\n",
    "    axss[1,0].set_xlabel('lags')\n",
    "    axss[1,1].set_xlabel('lags')\n",
    "    \n",
    "\n",
    "    fig.tight_layout()\n",
    "    plt.style.use \n",
    "    plt.show()\n",
    "    \n",
    "\n",
    "# plot_acf_pacf(consumption(), height=6, width=8, name=\"demand\")\n",
    "\n",
    "\n",
    "# There is an initial burn-in because of the cumulative effect of AR processes (therefore iloc)\n",
    "# plot_correlation(equilibria['AR1 & elast'].demand, 168)"
   ]
  },
  {
   "cell_type": "code",
   "execution_count": null,
   "metadata": {},
   "outputs": [],
   "source": [
    "fig, axss = plt.subplots(2, 2, sharex=True, sharey='row', figsize=(8, 6))\n",
    "\n",
    "plt.style.use(\"seaborn-v0_8-whitegrid\")\n",
    "\n",
    "resid_wind = sm.OLS(GERMANY.wind_generation, exog=exog).fit().resid\n",
    "resid_demand = sm.OLS(GERMANY.consumption, exog=exog).fit().resid\n",
    "\n",
    "plot_correlation(axss.transpose()[0], resid_wind, 72)\n",
    "plot_correlation(axss.transpose()[1], resid_demand, 72)\n",
    "\n",
    "axss[0,0].set_title(f'Residual wind electricity generation')\n",
    "axss[0,1].set_title(f'Residual electricity load')\n",
    "axss[1,0].set_title('')\n",
    "axss[1,1].set_title('')\n",
    "axss[0,0].set_ylabel('autocorrelation', size='large')\n",
    "axss[1,0].set_ylabel('partial autocorrelation', size='large')\n",
    "axss[1,0].set_xlabel('lags')\n",
    "axss[1,1].set_xlabel('lags')\n",
    "\n",
    "# for ax_list in axss:\n",
    "#     for ax in ax_list:\n",
    "#         ax.yaxis.grid(visible=True)\n",
    "#         ax.xaxis.grid(visible=True)\n",
    "\n",
    "fig.tight_layout()\n",
    "plt.style.use \n",
    "\n",
    "# There is an initial burn-in because of the cumulative effect of AR processes (therefore iloc)\n",
    "# plot_correlation(equilibria['AR1 & elast'].demand, 168)\n",
    "\n",
    "plt.show()"
   ]
  },
  {
   "cell_type": "markdown",
   "metadata": {},
   "source": [
    "Lead CIV Wind"
   ]
  },
  {
   "cell_type": "code",
   "execution_count": null,
   "metadata": {},
   "outputs": [],
   "source": [
    "@lru_cache\n",
    "def exog_list(series: HourlySeries, dummy: Dummy, price_area:PriceArea, minimal:bool=False, constant:bool=True) -> list[pd.Series]:\n",
    "    '''!!!! Since this function is cached, always copy the return before modifying it e.g. before appending other columns !!!!'''\n",
    "    if (price_area == Areas.DE1 or price_area == Areas.DE2) and (\n",
    "            series.timestamps.min()\n",
    "            < pd.Timestamp(\"201809302300\", tz=\"Europe/Berlin\")\n",
    "            and pd.Timestamp(\"201810010000\", tz=\"Europe/Berlin\")\n",
    "            < series.timestamps.max()\n",
    "        ):\n",
    "        series1 = HourlySeries(\n",
    "            interval(\n",
    "                start=series.timestamps.min(),\n",
    "                end=pd.Timestamp(\"201809302300\", tz=\"Europe/Berlin\"),\n",
    "            )\n",
    "        )\n",
    "        series2 = HourlySeries(\n",
    "            interval(\n",
    "                start=pd.Timestamp(\"201810010000\", tz=\"Europe/Berlin\"),\n",
    "                end=series.timestamps.max(),\n",
    "            )\n",
    "        )\n",
    "        \n",
    "        solar_generation = pd.concat(\n",
    "            [\n",
    "                series1.solar_generation(price_area=Areas.DE1).div(1000),\n",
    "                series2.solar_generation(price_area=Areas.DE2).div(1000),\n",
    "            ]\n",
    "        ).rename(\"generation.DE.Solar\")\n",
    "    else:\n",
    "        solar_generation = series.solar_generation(price_area)\n",
    "\n",
    "    if minimal:\n",
    "        return (\n",
    "            [dummy.constant()]\n",
    "            + dummy.month()\n",
    "            + dummy.hour()\n",
    "            + [solar_generation,\n",
    "               series.hdd(price_area),\n",
    "               series.cdd(price_area)]\n",
    "        )\n",
    "\n",
    "    base = [dummy.constant()] if constant else []\n",
    "    return ( base\n",
    "        + [\n",
    "            series.gas_price(price_area),\n",
    "            series.coal_price(),\n",
    "            series.eua_price(),\n",
    "            series.sunlight(price_area),\n",
    "            solar_generation,\n",
    "            series.hdd(price_area),\n",
    "            series.cdd(price_area),\n",
    "        ]\n",
    "        + dummy.weekhour()\n",
    "        + dummy.month()\n",
    "        + dummy.year()\n",
    "\n",
    "        + [dummy.public_holiday(price_area)]\n",
    "        + [dummy.school_holiday()]\n",
    "        + [dummy.week_53()]\n",
    "\n",
    "    )\n"
   ]
  },
  {
   "cell_type": "code",
   "execution_count": null,
   "metadata": {},
   "outputs": [],
   "source": [
    "x = pd.Series([1, 2, 3, 4, 5])\n",
    "print([x.shift(i) for i in range(1)])"
   ]
  },
  {
   "cell_type": "code",
   "execution_count": null,
   "metadata": {},
   "outputs": [],
   "source": [
    "iv2sls = IV2SLS(dependent=GERMANY.consumption,\n",
    "                exog=pd.concat([dummy.constant()]+[GERMANY.wind_generation.copy().shift(-i).rename(f\"wind_t+{-i}\") for i in range (1, 27)] + exog_list(series=consumption_analyisis_series, dummy=dummy, price_area=GERMANY.area, constant=False), axis=1),\n",
    "                endog=GERMANY.price, \n",
    "                instruments=GERMANY.wind_generation).fit(cov_type=\"kernel\")\n",
    "iv2sls.summary"
   ]
  },
  {
   "cell_type": "code",
   "execution_count": null,
   "metadata": {},
   "outputs": [],
   "source": [
    "import numpy as np\n",
    "import matplotlib.pyplot as plt\n",
    "\n",
    "# Define the range for alpha and beta\n",
    "alpha_values = np.linspace(0, 0.999, num=15)  # Adjust the number of points as needed\n",
    "beta_values = np.linspace(0, 0.999, num=15)   # Adjust the number of points as needed\n",
    "\n",
    "# Create a grid of alpha and beta values\n",
    "alpha_grid, beta_grid = np.meshgrid(alpha_values, beta_values)\n",
    "\n",
    "# Compute E for each pair of alpha and beta (replace with your actual calculation)\n",
    "E_values = (alpha_grid*10)*(beta_grid*10)\n",
    "F_values = (alpha_grid**2*80)+(beta_grid**3*2)\n",
    "\n",
    "vmin = min(np.min(E_values), np.min(F_values), 0)\n",
    "vmax = max(np.max(E_values), np.max(F_values), 100)\n",
    "\n",
    "fig, axs = plt.subplots(1, 2, sharex=False,  sharey=True, figsize=(16, 6))\n",
    "\n",
    "\n",
    "# Plot the heatmap\n",
    "im = axs[0].imshow(E_values, cmap='viridis', origin='lower', extent=(0, 1, 0, 1), vmin=vmin, vmax=vmax)\n",
    "fig.colorbar(im, ax=axs[0], label='Absolute percentage error')\n",
    "axs[0].set_xlabel('Autocorrelation of demand ($\\\\alpha^D$)')\n",
    "axs[0].set_ylabel('Autocorrelation of wind ($\\\\alpha^W$)')\n",
    "axs[0].set_title('Naive IV in Model I')\n",
    "\n",
    "# plt.contour(alpha_grid, beta_grid, E_values, levels=[1], colors='red', linestyles='dashed')\n",
    "axs[0].contour(alpha_grid, beta_grid, E_values, levels=[5], colors='red', linestyles='dashed')\n",
    "# plt.contour(alpha_grid, beta_grid, E_values, levels=[10], colors='red', linestyles='dashed')\n",
    "\n",
    "im2 = axs[1].imshow(F_values, cmap='viridis', origin='lower', extent=(0, 1, 0, 1), vmin=vmin, vmax=vmax)\n",
    "fig.colorbar(im2, ax=axs[1], label='Absolute percentage error')\n",
    "axs[1].set_xlabel('Autocorrelation of non-price-responsive demand ($\\\\alpha^\\\\mu$)')\n",
    "axs[1].set_ylabel('Autocorrelation of wind ($\\\\alpha^W$)')\n",
    "axs[1].set_title('CIV-D in Model II')\n",
    "\n",
    "# plt.contour(alpha_grid, beta_grid, E_values, levels=[1], colors='red', linestyles='dashed')\n",
    "axs[1].contour(alpha_grid, beta_grid, F_values, levels=[5], colors='red', linestyles='dashed')\n",
    "# plt.contour(alpha_grid, beta_grid, E_values, levels=[10], colors='red', linestyles='dashed')\n",
    "\n",
    "plt.show()\n",
    "\n",
    "print(vmax)"
   ]
  },
  {
   "cell_type": "markdown",
   "metadata": {},
   "source": [
    "Correlation"
   ]
  },
  {
   "cell_type": "code",
   "execution_count": null,
   "metadata": {},
   "outputs": [],
   "source": [
    "def correlation_plot(demand, price, title:str):\n",
    "    slope, intercept = np.polyfit(demand, price, 1)\n",
    "    plt.scatter(demand, price, label='Data Points', color='b')\n",
    "    regression_line = [(slope * x) + intercept for x in demand]\n",
    "    plt.plot(demand, regression_line, label='Regression Line', color='r')\n",
    "    plt.xlabel('Demand [GW]')\n",
    "    plt.ylabel('Price [€/MWh]')\n",
    "    plt.title(title)\n",
    "\n",
    "    plt.ticklabel_format(style='plain', useOffset=False)\n",
    "\n",
    "    plt.ylim(min(price)-10, max(price)+10)\n",
    "    plt.xlim(min(demand)-1, max(demand)+1)\n",
    "\n",
    "    plt.legend()\n",
    "    plt.show()"
   ]
  },
  {
   "cell_type": "code",
   "execution_count": null,
   "metadata": {},
   "outputs": [],
   "source": [
    "correlation_plot(GERMANY.consumption, GERMANY.price, \"Observed values\")"
   ]
  },
  {
   "cell_type": "code",
   "execution_count": null,
   "metadata": {},
   "outputs": [],
   "source": [
    "correlation_plot(GERMANY.consumption[(GERMANY.consumption.index.hour >= 8) & (GERMANY.consumption.index.hour <= 20)], GERMANY.price[(GERMANY.consumption.index.hour >= 8) & (GERMANY.consumption.index.hour <= 20)], \"Observed values\")"
   ]
  },
  {
   "cell_type": "code",
   "execution_count": null,
   "metadata": {},
   "outputs": [],
   "source": [
    "print(GERMANY.price)"
   ]
  },
  {
   "cell_type": "code",
   "execution_count": null,
   "metadata": {},
   "outputs": [],
   "source": [
    "correlation_plot(GERMANY.consumption[(GERMANY.consumption.index.hour >= 20) | (GERMANY.consumption.index.hour <= 8)], GERMANY.price[(GERMANY.consumption.index.hour >= 20) | (GERMANY.consumption.index.hour <= 8)], \"Observed values\")"
   ]
  },
  {
   "cell_type": "code",
   "execution_count": null,
   "metadata": {},
   "outputs": [],
   "source": [
    "resid_consumption = sm.OLS(GERMANY.consumption, exog, missing='drop').fit().resid\n",
    "resid_price = sm.OLS(GERMANY.price, exog, missing='drop').fit().resid\n",
    "\n",
    "correlation_plot(resid_consumption, resid_price, \"Residuals (full controlling set)\")"
   ]
  },
  {
   "cell_type": "code",
   "execution_count": null,
   "metadata": {},
   "outputs": [],
   "source": [
    "resid_consumption = sm.OLS(GERMANY.consumption, min_exog, missing='drop').fit().resid\n",
    "resid_price = sm.OLS(GERMANY.price, min_exog, missing='drop').fit().resid\n",
    "\n",
    "correlation_plot(resid_consumption, resid_price, \"Residuals (minimal controlling set)\")"
   ]
  },
  {
   "cell_type": "markdown",
   "metadata": {},
   "source": [
    "Wind effect on prices"
   ]
  },
  {
   "cell_type": "code",
   "execution_count": null,
   "metadata": {},
   "outputs": [],
   "source": [
    "wind = pd.Series(GERMANY.wind_generation)\n",
    "\n",
    "winds = pd.concat([wind.shift(i).rename(f\"wind-t-{i}\") for i in range(1, 27)], axis=1)\n",
    "\n",
    "exog = pd.concat([winds, exog], axis=1)"
   ]
  },
  {
   "cell_type": "code",
   "execution_count": null,
   "metadata": {},
   "outputs": [],
   "source": [
    "sm.OLS(endog=GERMANY.price, exog=pd.concat([wind, exog], axis=1), missing='drop').fit(cov_type='HAC', cov_kwds={'maxlags':168}).summary()"
   ]
  },
  {
   "cell_type": "code",
   "execution_count": null,
   "metadata": {},
   "outputs": [],
   "source": [
    "price_diff = GERMANY.price.diff(1).rename(\"price_diff(1)\")\n",
    "\n",
    "wind_diff = GERMANY.wind_generation.diff(1).rename(\"wind_generation_diff(1)\")"
   ]
  },
  {
   "cell_type": "code",
   "execution_count": null,
   "metadata": {},
   "outputs": [],
   "source": [
    "exog = pd.concat([wind_diff, exog], axis=1)"
   ]
  },
  {
   "cell_type": "code",
   "execution_count": null,
   "metadata": {},
   "outputs": [],
   "source": [
    "reg = sm.OLS(endog=price_diff, exog=exog, missing='drop')"
   ]
  },
  {
   "cell_type": "code",
   "execution_count": null,
   "metadata": {},
   "outputs": [],
   "source": [
    "wind_diff.abs().mean()"
   ]
  },
  {
   "cell_type": "code",
   "execution_count": null,
   "metadata": {},
   "outputs": [],
   "source": [
    "# reg.fit(cov_type='HAC', cov_kwds={'maxlags':168}).summary()"
   ]
  },
  {
   "cell_type": "markdown",
   "metadata": {},
   "source": [
    "# Weak instrument analysis from Felix"
   ]
  },
  {
   "cell_type": "code",
   "execution_count": null,
   "metadata": {},
   "outputs": [],
   "source": [
    "W_c = pd.Series(sm.OLS(GERMANY.wind_generation, exog, missing='drop').fit().resid).rename(\"residual_wind\")\n",
    "D_c = pd.Series(sm.OLS(GERMANY.consumption, exog, missing='drop').fit().resid).rename(\"residual_demand\")\n",
    "P_c = pd.Series(sm.OLS(GERMANY.price, exog, missing='drop').fit().resid).rename(\"residual_price\")\n",
    "constant = dummy.constant()[D_c.index]\n",
    "\n",
    "exog_list_return = exog_list(series=consumption_analyisis_series, dummy=dummy, price_area=GERMANY.area, constant=False)"
   ]
  },
  {
   "cell_type": "code",
   "execution_count": null,
   "metadata": {},
   "outputs": [],
   "source": [
    "len(exog_list_return)"
   ]
  },
  {
   "cell_type": "markdown",
   "metadata": {},
   "source": [
    "2SLS, uncontrolled"
   ]
  },
  {
   "cell_type": "code",
   "execution_count": null,
   "metadata": {},
   "outputs": [],
   "source": [
    "iv2sls = IV2SLS(dependent=GERMANY.consumption,\n",
    "                exog=dummy.constant(),\n",
    "                endog=GERMANY.price, \n",
    "                instruments=GERMANY.wind_generation).fit(cov_type=\"kernel\")\n",
    "iv2sls.summary"
   ]
  },
  {
   "cell_type": "markdown",
   "metadata": {},
   "source": [
    "2SLS, residuals"
   ]
  },
  {
   "cell_type": "code",
   "execution_count": null,
   "metadata": {},
   "outputs": [],
   "source": [
    "iv2sls = IV2SLS(dependent=D_c,\n",
    "                exog=None,\n",
    "                endog=P_c, \n",
    "                instruments=W_c).fit(cov_type=\"kernel\")\n",
    "\n",
    "iv2sls.summary"
   ]
  },
  {
   "cell_type": "markdown",
   "metadata": {},
   "source": [
    "Demand on Wind, uncontrolled"
   ]
  },
  {
   "cell_type": "code",
   "execution_count": null,
   "metadata": {},
   "outputs": [],
   "source": [
    "iv2sls = IV2SLS(dependent=GERMANY.consumption,\n",
    "                exog=pd.concat([dummy.constant(), GERMANY.wind_generation], axis=1),\n",
    "                endog=None, \n",
    "                instruments=None).fit(cov_type=\"kernel\")\n",
    "iv2sls.summary"
   ]
  },
  {
   "cell_type": "markdown",
   "metadata": {},
   "source": [
    "Demand on Wind, residuals"
   ]
  },
  {
   "cell_type": "code",
   "execution_count": null,
   "metadata": {},
   "outputs": [],
   "source": [
    "iv2sls = IV2SLS(dependent=D_c,\n",
    "                exog=pd.concat([W_c], axis=1),\n",
    "                endog=None, \n",
    "                instruments=None).fit(cov_type=\"kernel\")\n",
    "iv2sls.summary"
   ]
  },
  {
   "cell_type": "markdown",
   "metadata": {},
   "source": [
    "p{t} ~ controls, wind{t}, constant"
   ]
  },
  {
   "cell_type": "code",
   "execution_count": null,
   "metadata": {},
   "outputs": [],
   "source": [
    "iv2sls = IV2SLS(dependent=GERMANY.price,\n",
    "                exog=pd.concat([constant, GERMANY.wind_generation]+exog_list_return, axis=1),\n",
    "                endog=None, \n",
    "                instruments=None).fit(cov_type=\"kernel\")\n",
    "iv2sls.summary"
   ]
  },
  {
   "cell_type": "code",
   "execution_count": null,
   "metadata": {},
   "outputs": [],
   "source": [
    "iv2sls = IV2SLS(dependent=GERMANY.price,\n",
    "                exog=pd.concat([constant, GERMANY.wind_generation]+exog_list_return, axis=1),\n",
    "                endog=None, \n",
    "                instruments=None).fit(cov_type=\"unadjusted\")\n",
    "iv2sls.summary"
   ]
  },
  {
   "cell_type": "markdown",
   "metadata": {},
   "source": [
    "p{t} ~ controls, wind{t-1}, wind{t}, constant"
   ]
  },
  {
   "cell_type": "code",
   "execution_count": null,
   "metadata": {},
   "outputs": [],
   "source": [
    "iv2sls = IV2SLS(dependent=GERMANY.price,\n",
    "                exog=pd.concat([constant, GERMANY.wind_generation, GERMANY.wind_generation.shift(1).rename(\"wind_t-1\")]+exog_list_return, axis=1),\n",
    "                endog=None, \n",
    "                instruments=None).fit(cov_type=\"kernel\")\n",
    "iv2sls.summary"
   ]
  },
  {
   "cell_type": "code",
   "execution_count": null,
   "metadata": {},
   "outputs": [],
   "source": [
    "iv2sls = IV2SLS(dependent=GERMANY.price,\n",
    "                exog=pd.concat([constant, GERMANY.wind_generation, GERMANY.wind_generation.shift(1).rename(\"wind_t-1\")]+exog_list_return, axis=1),\n",
    "                endog=None, \n",
    "                instruments=None).fit(cov_type=\"unadjusted\")\n",
    "iv2sls.summary"
   ]
  },
  {
   "cell_type": "markdown",
   "metadata": {},
   "source": [
    "p{t} ~ controls, wind{t}, wind{t-1}, ..., W_{t-26} constant"
   ]
  },
  {
   "cell_type": "code",
   "execution_count": null,
   "metadata": {},
   "outputs": [],
   "source": [
    "iv2sls = IV2SLS(dependent=GERMANY.price,\n",
    "                exog=pd.concat([constant, GERMANY.wind_generation] + [GERMANY.wind_generation.shift(i).rename(f\"wind_t-{i}\") for i in range(1, 27)]+exog_list_return, axis=1),\n",
    "                endog=None, \n",
    "                instruments=None).fit(cov_type=\"kernel\")\n",
    "iv2sls.summary"
   ]
  },
  {
   "cell_type": "code",
   "execution_count": null,
   "metadata": {},
   "outputs": [],
   "source": [
    "iv2sls = IV2SLS(dependent=GERMANY.price,\n",
    "                exog=pd.concat([constant, GERMANY.wind_generation] + [GERMANY.wind_generation.shift(i).rename(f\"wind_t-{i}\") for i in range(1, 27)]+exog_list_return, axis=1),\n",
    "                endog=None, \n",
    "                instruments=None).fit(cov_type=\"unadjusted\")\n",
    "iv2sls.summary"
   ]
  },
  {
   "cell_type": "markdown",
   "metadata": {},
   "source": [
    "# AR analysis from Felix "
   ]
  },
  {
   "cell_type": "code",
   "execution_count": null,
   "metadata": {},
   "outputs": [],
   "source": [
    "correted_consumption = GERMANY.consumption - GERMANY.price * 230"
   ]
  },
  {
   "cell_type": "code",
   "execution_count": null,
   "metadata": {},
   "outputs": [],
   "source": [
    "print(correted_consumption)"
   ]
  },
  {
   "cell_type": "code",
   "execution_count": null,
   "metadata": {},
   "outputs": [],
   "source": [
    "print((np.var(GERMANY.consumption)-np.var(correted_consumption))/np.var(GERMANY.consumption)*100)"
   ]
  },
  {
   "cell_type": "code",
   "execution_count": null,
   "metadata": {},
   "outputs": [],
   "source": [
    "XX = np.linspace(-500, 0, 1000)\n",
    "\n",
    "# Calculate correted_consumption using the given formula\n",
    "\n",
    "YY = [(np.var(GERMANY.consumption) - np.var(GERMANY.consumption + GERMANY.price * x)) / np.var(GERMANY.consumption) * 100 for x in XX]\n",
    "\n",
    "# Plotting the data\n",
    "plt.plot(XX, YY, label='Explained variance')\n",
    "plt.axvline(x=-233, color='red', linestyle='--', label='CIV-Wind current estimate')\n",
    "plt.axvline(x=XX[YY.index(max(YY))], color='grey', linestyle='--', label='CIV-Wind current estimate')\n",
    "\n",
    "plt.xlabel('Coefficient')\n",
    "plt.ylabel('Explained variance')\n",
    "plt.title('Explained variance as a function of price response coefficient')\n",
    "plt.legend()\n",
    "plt.show()"
   ]
  },
  {
   "cell_type": "code",
   "execution_count": null,
   "metadata": {},
   "outputs": [],
   "source": [
    "results = ar_model_fit(series=correted_consumption, lags=2, exog=None)\n",
    "params = ar_model_analysis(results)\n",
    "\n",
    "print(params.lags_dict)\n",
    "print(params.error_sd)"
   ]
  },
  {
   "cell_type": "code",
   "execution_count": null,
   "metadata": {},
   "outputs": [],
   "source": [
    "results.resid.plot()"
   ]
  },
  {
   "cell_type": "code",
   "execution_count": null,
   "metadata": {},
   "outputs": [],
   "source": [
    "durbin_watson(results.resid)"
   ]
  },
  {
   "cell_type": "code",
   "execution_count": null,
   "metadata": {},
   "outputs": [],
   "source": [
    "pd.Series(results.resid).rolling(30*24).mean().plot()"
   ]
  },
  {
   "cell_type": "code",
   "execution_count": null,
   "metadata": {},
   "outputs": [],
   "source": [
    "residuals = sm.OLS(correted_consumption, exog).fit().resid\n",
    "\n",
    "results = ar_model_fit(series=residuals, lags=2, exog=exog)\n",
    "params = ar_model_analysis(results)\n",
    "\n",
    "print(params.lags_dict)\n",
    "print(params.error_sd)"
   ]
  },
  {
   "cell_type": "code",
   "execution_count": null,
   "metadata": {},
   "outputs": [],
   "source": [
    "results.resid.plot()"
   ]
  },
  {
   "cell_type": "code",
   "execution_count": null,
   "metadata": {},
   "outputs": [],
   "source": [
    "pd.Series(results.resid).rolling(30*24).mean().plot()"
   ]
  },
  {
   "cell_type": "code",
   "execution_count": null,
   "metadata": {},
   "outputs": [],
   "source": [
    "durbin_watson(results.resid)"
   ]
  },
  {
   "cell_type": "markdown",
   "metadata": {},
   "source": [
    "Variance explained"
   ]
  },
  {
   "cell_type": "code",
   "execution_count": null,
   "metadata": {},
   "outputs": [],
   "source": [
    "EXOG_DF = exogenous_variables(\n",
    "    start=start, end=end, price_area=consumption.price_area\n",
    ")\n",
    "\n",
    "exog_df = pd.concat(exog_list_return + [GERMANY.wind_generation.copy().shift(i) for i in range(1, 27)], axis=1)\n",
    "\n",
    "resid_cons = sm.OLS(GERMANY.consumption, exog=exog_df, missing='drop').fit().resid\n",
    "resid_price = sm.OLS(GERMANY.price, exog=exog_df, missing='drop').fit().resid\n"
   ]
  },
  {
   "cell_type": "code",
   "execution_count": null,
   "metadata": {},
   "outputs": [],
   "source": [
    "corrected_consumption_resid = resid_cons - resid_price*233"
   ]
  },
  {
   "cell_type": "code",
   "execution_count": null,
   "metadata": {},
   "outputs": [],
   "source": [
    "print((np.var(resid_cons)-np.var(corrected_consumption_resid))/np.var(resid_cons)*100)"
   ]
  },
  {
   "cell_type": "markdown",
   "metadata": {},
   "source": [
    "# Simulation for weak instruments"
   ]
  },
  {
   "cell_type": "code",
   "execution_count": null,
   "metadata": {},
   "outputs": [],
   "source": [
    "eq = IndEquilibrium(\n",
    "    supply=Supply(\n",
    "        Areas.DE2,\n",
    "        wind=get_wind_series(wind_type=WindOptions.SYNTHETIC_AR_N,\n",
    "                             series=consumption_analyisis_series,\n",
    "                             price_area=Areas.DE2,\n",
    "                             synthetic_nlags=26,\n",
    "                             use_default_series_for_wind=False),\n",
    "        error=RandomCached.normal(0, 1)\n",
    "    ),\n",
    "    demand=IndividualDemand(base_constant=consumption().mean(),\n",
    "                            lags={-1:0.897},\n",
    "                            elasticity=-20,\n",
    "                            cross_price_elasticity=50,\n",
    "                            error=RandomCached.normal(0, 1000),\n",
    "                            average_supply_price=60),\n",
    "    times=consumption_analysis_interval\n",
    ")"
   ]
  },
  {
   "cell_type": "markdown",
   "metadata": {},
   "source": [
    "2SLS, uncontrolled"
   ]
  },
  {
   "cell_type": "code",
   "execution_count": null,
   "metadata": {},
   "outputs": [],
   "source": [
    "iv2sls = IV2SLS(dependent=eq.clearing.demand,\n",
    "                exog=dummy.constant()[eq.clearing.demand.index],\n",
    "                endog=eq.clearing.price, \n",
    "                instruments=eq.supply.wind[eq.clearing.demand.index]).fit(cov_type=\"kernel\")\n",
    "iv2sls.summary"
   ]
  },
  {
   "cell_type": "markdown",
   "metadata": {},
   "source": [
    "p{t} ~ controls, wind{t}, constant"
   ]
  },
  {
   "cell_type": "code",
   "execution_count": null,
   "metadata": {},
   "outputs": [],
   "source": [
    "from model import ModelData, treat_nan"
   ]
  },
  {
   "cell_type": "code",
   "execution_count": null,
   "metadata": {},
   "outputs": [],
   "source": [
    "dep, exog, endog, inst = treat_nan([eq.clearing.price, \n",
    "                                    pd.concat([constant, eq.supply.wind], axis=1), \n",
    "                                    None,\n",
    "                                    None])\n",
    "\n",
    "iv2sls = IV2SLS(dependent=dep,\n",
    "                exog=exog,\n",
    "                endog=endog, \n",
    "                instruments=inst).fit(cov_type=\"kernel\")\n",
    "iv2sls.summary"
   ]
  },
  {
   "cell_type": "markdown",
   "metadata": {},
   "source": [
    "p{t} ~ controls, wind{t-1}, wind{t}, constant"
   ]
  },
  {
   "cell_type": "code",
   "execution_count": null,
   "metadata": {},
   "outputs": [],
   "source": [
    "dep, exog, endog, inst = treat_nan([eq.clearing.price, \n",
    "                                    pd.concat([constant, eq.supply.wind, eq.supply.wind.shift(1).rename(f\"{eq.supply.wind.name}_t-{1}\")], axis=1), \n",
    "                                    None,\n",
    "                                    None])\n",
    "\n",
    "iv2sls = IV2SLS(dependent=dep,\n",
    "                exog=exog,\n",
    "                endog=endog, \n",
    "                instruments=inst).fit(cov_type=\"unadjusted\")\n",
    "iv2sls.summary"
   ]
  },
  {
   "cell_type": "markdown",
   "metadata": {},
   "source": [
    "p{t} ~ controls, wind{t}, wind{t-1}, ..., W_{t-26} constant"
   ]
  },
  {
   "cell_type": "code",
   "execution_count": null,
   "metadata": {},
   "outputs": [],
   "source": [
    "dep, exog, endog, inst = treat_nan([eq.clearing.price, \n",
    "                                    pd.concat([constant, eq.supply.wind]+[eq.supply.wind.shift(i).rename(f\"{eq.supply.wind.name}_t-{i}\") for i in range(1, 27)], axis=1), \n",
    "                                    None,\n",
    "                                    None])\n",
    "\n",
    "iv2sls = IV2SLS(dependent=dep,\n",
    "                exog=exog,\n",
    "                endog=endog, \n",
    "                instruments=inst).fit(cov_type=\"unadjusted\")\n",
    "iv2sls.summary"
   ]
  }
 ],
 "metadata": {
  "kernelspec": {
   "display_name": "venv310",
   "language": "python",
   "name": "python3"
  },
  "language_info": {
   "codemirror_mode": {
    "name": "ipython",
    "version": 3
   },
   "file_extension": ".py",
   "mimetype": "text/x-python",
   "name": "python",
   "nbconvert_exporter": "python",
   "pygments_lexer": "ipython3",
   "version": "3.10.11"
  },
  "orig_nbformat": 4
 },
 "nbformat": 4,
 "nbformat_minor": 2
}
