{
 "cells": [
  {
   "cell_type": "code",
   "execution_count": null,
   "metadata": {},
   "outputs": [],
   "source": [
    "import pandas as pd\n",
    "import numpy as np\n",
    "import statsmodels.api as sm\n",
    "import matplotlib.pyplot as plt\n",
    "\n",
    "from functools import lru_cache\n",
    "\n",
    "from synthetic import interval, Consumption, HourlySeries, Dummy, exogenous_variables, Areas, Country, exog_list\n",
    "\n",
    "pd.options.plotting.backend = \"plotly\""
   ]
  },
  {
   "cell_type": "markdown",
   "metadata": {},
   "source": [
    "# Setup"
   ]
  },
  {
   "cell_type": "code",
   "execution_count": null,
   "metadata": {},
   "outputs": [],
   "source": [
    "# Get consumption parameters\n",
    "start = pd.Timestamp(\"201711010000\")\n",
    "end = pd.Timestamp(\"202012312300\")\n",
    "# end = pd.Timestamp(\"202307042300\")\n",
    "\n",
    "AREA = Areas.DE2\n",
    "INTERVAL = interval(start=start, end=end)\n",
    "\n",
    "DEFAULT_SERIES = HourlySeries(INTERVAL)\n",
    "DEFAULT_DUMMY = Dummy(INTERVAL)\n",
    "\n",
    "EXOG_DF = exogenous_variables(\n",
    "    start=start, end=end, price_area=AREA\n",
    ")"
   ]
  },
  {
   "cell_type": "code",
   "execution_count": null,
   "metadata": {},
   "outputs": [],
   "source": [
    "GERMANY = Country(Areas.DE2, DEFAULT_SERIES, remove_holidays=False)\n",
    "SPAIN = Country(Areas.ES, DEFAULT_SERIES, remove_holidays=False)"
   ]
  },
  {
   "cell_type": "markdown",
   "metadata": {},
   "source": [
    "# Summary statistics"
   ]
  },
  {
   "cell_type": "code",
   "execution_count": null,
   "metadata": {},
   "outputs": [],
   "source": [
    "def print_share_of_non_positive_values(series):\n",
    "    total_values = len(series)\n",
    "    non_positive_values = series[series <= 0]\n",
    "    share = len(non_positive_values) / total_values\n",
    "    print(f\"Share of non-positive values: {share:.2%}\")\n",
    "\n",
    "print_share_of_non_positive_values(GERMANY.price)\n",
    "print_share_of_non_positive_values(SPAIN.price)"
   ]
  },
  {
   "cell_type": "code",
   "execution_count": null,
   "metadata": {},
   "outputs": [],
   "source": [
    "df = pd.concat([GERMANY.consumption, GERMANY.price, GERMANY.wind_generation], axis=1)\n",
    "\n",
    "summary_stats = df.describe().transpose()\n",
    "\n",
    "summary_stats['Skewness'] = df.skew()\n",
    "summary_stats['Kurtosis'] = df.kurt()\n",
    "\n",
    "summary_stats.rename(\n",
    "    columns={\n",
    "        'mean': 'Mean',\n",
    "        '50%': 'Median',\n",
    "        'std': 'Standard Deviation',\n",
    "        'min': 'Minimum',\n",
    "        'max': 'Maximum'\n",
    "    },\n",
    "    inplace=True\n",
    ")\n",
    "\n",
    "print(summary_stats)"
   ]
  },
  {
   "cell_type": "markdown",
   "metadata": {},
   "source": [
    "# Magnitude interpretation"
   ]
  },
  {
   "cell_type": "code",
   "execution_count": null,
   "metadata": {},
   "outputs": [],
   "source": [
    "print(GERMANY.wind_generation.describe())\n"
   ]
  },
  {
   "cell_type": "code",
   "execution_count": null,
   "metadata": {},
   "outputs": [],
   "source": [
    "std_deviation = GERMANY.wind_generation.std()\n",
    "skewness = GERMANY.wind_generation.skew()\n",
    "mean_value = GERMANY.wind_generation.mean()\n",
    "\n",
    "print(\"Standard Deviation:\", std_deviation)\n",
    "print(\"Skewness:\", skewness)\n",
    "print(\"Mean:\", mean_value)"
   ]
  },
  {
   "cell_type": "code",
   "execution_count": null,
   "metadata": {},
   "outputs": [],
   "source": [
    "plt.hist(GERMANY.wind_generation, bins='auto', color='#0504aa', alpha=0.7, rwidth=0.85)\n",
    "plt.title('Histogram of Wind generation')\n",
    "plt.xlabel('MWh')\n",
    "plt.ylabel('Frequency')\n",
    "plt.grid(axis='y', alpha=0.75)\n",
    "\n",
    "plt.show()"
   ]
  },
  {
   "cell_type": "code",
   "execution_count": null,
   "metadata": {},
   "outputs": [],
   "source": [
    "def filter_series_on_peak(series:pd.Series) -> pd.Series:\n",
    "    assert isinstance(series.index, pd.DatetimeIndex)\n",
    "    return series.loc[\n",
    "    (series.index.hour >= 8) & (series.index.hour < 20)\n",
    "]\n",
    "\n",
    "def filter_dataframe_on_peak(df:pd.DataFrame) -> pd.DataFrame:\n",
    "    assert isinstance(df.index, pd.DatetimeIndex)\n",
    "    return df.loc[\n",
    "    (df.index.hour >= 8) & (df.index.hour < 20)\n",
    "]"
   ]
  },
  {
   "cell_type": "code",
   "execution_count": null,
   "metadata": {},
   "outputs": [],
   "source": [
    "wind = GERMANY.wind_generation\n",
    "price = GERMANY.price\n",
    "demand = GERMANY.consumption\n",
    "\n",
    "exog_list_vars = exog_list(\n",
    "    series=DEFAULT_SERIES, dummy=DEFAULT_DUMMY, price_area=AREA\n",
    ")\n",
    "\n",
    "wind_lags_list = [GERMANY.wind_generation.copy().shift(i).rename(f\"wind_generation_t-{i}\") for i in range(1, 51)]\n",
    "\n",
    "civ_wind_exog = pd.concat(exog_list_vars+wind_lags_list, axis=1)\n",
    "civ_wind_exog = civ_wind_exog[civ_wind_exog.index.isin(INTERVAL)]\n",
    "\n",
    "on_peak_civ_wind_exog = filter_dataframe_on_peak(civ_wind_exog)\n",
    "on_peak_civ_wind_exog = on_peak_civ_wind_exog\n",
    "on_peak_wind = filter_series_on_peak(wind)\n",
    "on_peak_price = filter_series_on_peak(price)\n",
    "on_peak_demand = filter_series_on_peak(demand)\n",
    "\n",
    "on_peak_residuals = sm.OLS(endog=on_peak_wind, exog=on_peak_civ_wind_exog, missing='drop').fit().resid\n",
    "residuals = sm.OLS(endog=wind, exog=civ_wind_exog, missing='drop').fit().resid"
   ]
  },
  {
   "cell_type": "code",
   "execution_count": null,
   "metadata": {},
   "outputs": [],
   "source": [
    "res_series = pd.Series(residuals)\n",
    "\n",
    "print(res_series.describe())\n"
   ]
  },
  {
   "cell_type": "code",
   "execution_count": null,
   "metadata": {},
   "outputs": [],
   "source": [
    "std_deviation = res_series.std()\n",
    "skewness = res_series.skew()\n",
    "mean_value = res_series.mean()\n",
    "\n",
    "print(\"Standard Deviation:\", std_deviation)\n",
    "print(\"Skewness:\", skewness)\n",
    "print(\"Mean:\", mean_value)"
   ]
  },
  {
   "cell_type": "code",
   "execution_count": null,
   "metadata": {},
   "outputs": [],
   "source": [
    "plt.hist(res_series, bins='auto', color='#0504aa', alpha=0.7, rwidth=0.85)\n",
    "plt.title('Histogram of Residuals')\n",
    "plt.xlabel('Value')\n",
    "plt.ylabel('Frequency')\n",
    "plt.grid(axis='y', alpha=0.75)\n",
    "\n",
    "plt.show()"
   ]
  },
  {
   "cell_type": "markdown",
   "metadata": {},
   "source": [
    "First stage"
   ]
  },
  {
   "cell_type": "code",
   "execution_count": null,
   "metadata": {},
   "outputs": [],
   "source": [
    "first_stage_exog = pd.concat([wind]+wind_lags_list+exog_list_vars, axis=1)\n",
    "first_stage_exog = first_stage_exog[first_stage_exog.index.isin(INTERVAL)]\n",
    "\n",
    "first_stage = sm.OLS(price, exog=first_stage_exog, missing='drop').fit()"
   ]
  },
  {
   "cell_type": "code",
   "execution_count": null,
   "metadata": {},
   "outputs": [],
   "source": [
    "print(round(first_stage.params['wind_generation'], 6))"
   ]
  },
  {
   "cell_type": "code",
   "execution_count": null,
   "metadata": {},
   "outputs": [],
   "source": [
    "pd.Series(first_stage.resid).std()"
   ]
  },
  {
   "cell_type": "code",
   "execution_count": null,
   "metadata": {},
   "outputs": [],
   "source": [
    "wind_first_stage_estimate = first_stage.params['wind_generation']"
   ]
  },
  {
   "cell_type": "code",
   "execution_count": null,
   "metadata": {},
   "outputs": [],
   "source": [
    "print(\"wind_first_stage_estimate\", wind_first_stage_estimate)"
   ]
  },
  {
   "cell_type": "code",
   "execution_count": null,
   "metadata": {},
   "outputs": [],
   "source": [
    "GERMANY.consumption.std()"
   ]
  },
  {
   "cell_type": "markdown",
   "metadata": {},
   "source": [
    "# ACF/PACF"
   ]
  },
  {
   "cell_type": "code",
   "execution_count": null,
   "metadata": {},
   "outputs": [],
   "source": [
    "from statsmodels.graphics.tsaplots import plot_acf, plot_pacf\n",
    "from plot_tools import save_figure, HEIGHT, REGULAR_WIDTH\n",
    "\n",
    "def plot_correlation(axs, series: pd.Series, lags: int, pacf_limit=168):\n",
    "        ax_acf, ax_pacf = axs\n",
    "        plot_acf(series, lags=lags, ax=ax_acf, markersize=3, bartlett_confint=False, vlines_kwargs={'linewidth':0.6})\n",
    "        plot_pacf(series, lags=min(lags, pacf_limit), ax=ax_pacf, method=\"ywm\", markersize=3, vlines_kwargs={'linewidth':0.6})\n",
    "\n",
    "def plot_acf_pacf(country: Country, height:float, width:float):\n",
    "    fig, axss = plt.subplots(2, 2, sharex=True, sharey='row', figsize=(width, height))\n",
    "\n",
    "    plt.style.use(\"seaborn-v0_8-whitegrid\")\n",
    "\n",
    "    resid_wind = sm.OLS(country.wind_generation, exog=EXOG_DF).fit().resid\n",
    "    resid_demand = sm.OLS(country.consumption, exog=EXOG_DF).fit().resid\n",
    "\n",
    "    plot_correlation(axss.transpose()[0], resid_wind, 72)\n",
    "    plot_correlation(axss.transpose()[1], resid_demand, 72)\n",
    "\n",
    "    axss[0,0].set_title(f'Residual wind electricity generation')\n",
    "    axss[0,1].set_title(f'Residual electricity load')\n",
    "    axss[1,0].set_title('')\n",
    "    axss[1,1].set_title('')\n",
    "    axss[0,0].set_ylabel('obs. autocorrelation', size='large')\n",
    "    axss[1,0].set_ylabel('obs. partial autocorrelation', size='large')\n",
    "    axss[1,0].set_xlabel('lags')\n",
    "    axss[1,1].set_xlabel('lags')\n",
    "\n",
    "\n",
    "    fig.tight_layout()\n",
    "    plt.style.use \n",
    "\n",
    "    axss[0][0].set_xlim(-1, 73)\n",
    "    axss[0][0].set_xticks([0, 12, 24, 36, 48, 60, 72])\n",
    "\n",
    "    # There is an initial burn-in because of the cumulative effect of AR processes (therefore iloc)\n",
    "    # plot_correlation(equilibria['AR1 & elast'].demand, 168)\n",
    "\n",
    "    save_figure(fig, \"acf_pacf_plot\")\n",
    "\n",
    "    plt.show()\n",
    "    \n",
    "\n",
    "plot_acf_pacf(country=GERMANY, height=HEIGHT*1.5, width=REGULAR_WIDTH)\n"
   ]
  },
  {
   "cell_type": "code",
   "execution_count": null,
   "metadata": {},
   "outputs": [],
   "source": [
    "# plot_acf_pacf(country=SPAIN, height=HEIGHT*1.5, width=REGULAR_WIDTH)\n"
   ]
  },
  {
   "cell_type": "markdown",
   "metadata": {},
   "source": [
    "# Wind effect on prices"
   ]
  },
  {
   "cell_type": "code",
   "execution_count": null,
   "metadata": {},
   "outputs": [],
   "source": [
    "wind = pd.Series(GERMANY.wind_generation)\n",
    "\n",
    "winds = pd.concat([wind.shift(i).rename(f\"wind-t-{i}\") for i in range(1, 27)], axis=1)\n",
    "\n",
    "exog = pd.concat([winds, EXOG_DF], axis=1)"
   ]
  },
  {
   "cell_type": "code",
   "execution_count": null,
   "metadata": {},
   "outputs": [],
   "source": [
    "sm.OLS(endog=GERMANY.price, exog=pd.concat([wind, exog], axis=1), missing='drop').fit(cov_type='HAC', cov_kwds={'maxlags':168}).summary()"
   ]
  },
  {
   "cell_type": "code",
   "execution_count": null,
   "metadata": {},
   "outputs": [],
   "source": [
    "price_diff = GERMANY.price.diff(1).rename(\"price_diff(1)\")\n",
    "\n",
    "wind_diff = GERMANY.wind_generation.diff(1).rename(\"wind_generation_diff(1)\")"
   ]
  },
  {
   "cell_type": "code",
   "execution_count": null,
   "metadata": {},
   "outputs": [],
   "source": [
    "exog = pd.concat([wind_diff, exog], axis=1)"
   ]
  },
  {
   "cell_type": "code",
   "execution_count": null,
   "metadata": {},
   "outputs": [],
   "source": [
    "reg = sm.OLS(endog=price_diff, exog=exog, missing='drop')"
   ]
  },
  {
   "cell_type": "code",
   "execution_count": null,
   "metadata": {},
   "outputs": [],
   "source": [
    "wind_diff.abs().mean()"
   ]
  }
 ],
 "metadata": {
  "kernelspec": {
   "display_name": "venv310",
   "language": "python",
   "name": "python3"
  },
  "language_info": {
   "codemirror_mode": {
    "name": "ipython",
    "version": 3
   },
   "file_extension": ".py",
   "mimetype": "text/x-python",
   "name": "python",
   "nbconvert_exporter": "python",
   "pygments_lexer": "ipython3",
   "version": "3.10.11"
  },
  "orig_nbformat": 4
 },
 "nbformat": 4,
 "nbformat_minor": 2
}
